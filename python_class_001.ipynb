{
 "cells": [
  {
   "cell_type": "code",
   "execution_count": 1,
   "id": "c451af1d",
   "metadata": {},
   "outputs": [
    {
     "name": "stdout",
     "output_type": "stream",
     "text": [
      "My age is = 23\n",
      "My system ip addresss is : 127.0.0.1\n"
     ]
    },
    {
     "data": {
      "text/plain": [
       "list"
      ]
     },
     "execution_count": 1,
     "metadata": {},
     "output_type": "execute_result"
    }
   ],
   "source": [
    "#VARIABLE variable_name = value\n",
    "age = '23'\n",
    "girl_age = 10\n",
    "\n",
    "ip_address = \"127.0.0.1\" #\n",
    "fruits = ['orange','banana']\n",
    "ages = [30,40,10]\n",
    "collections = ['toyota','volvo','lexus']\n",
    "print('My age is =',age)\n",
    "print('My system ip addresss is :',ip_address)\n",
    "\n",
    "# DATETYPES\n",
    "\n",
    "#INTEGERS\n",
    "#STRING\n",
    "#LIST\n",
    "#DICTIONARY\n",
    "#TUPLES\n",
    "#SET\n",
    "\n",
    "# isinstance(variable_name, int)\n",
    "\n",
    "type(fruits)"
   ]
  },
  {
   "cell_type": "code",
   "execution_count": 3,
   "id": "73531d20",
   "metadata": {
    "scrolled": true
   },
   "outputs": [
    {
     "name": "stdout",
     "output_type": "stream",
     "text": [
      "Have gotten new car name benz ['toyota', 'volvo', 'lexus', 'benz']\n",
      "3\n",
      "toyota\n",
      "new car collections ['toyota', 'volvo']\n"
     ]
    }
   ],
   "source": [
    "# OPERATIONS ON A LIST\n",
    "# append, pop, index, sort\n",
    "##print('original collection',collections)\n",
    "collections.append('benz')\n",
    "print(\"Have gotten new car name benz\",collections)\n",
    "\n",
    "#how to use pop\n",
    "collections.pop()\n",
    "#print(\"I sold my car randomly\",collections) 0 - len(list)-1\n",
    "cars = ['toyota', 'volvo', 'lexus']\n",
    "print(len(cars))\n",
    "#3 => 0,1,2\n",
    "print(cars[0])\n",
    "cars.pop(2)\n",
    "print(\"new car collections\", cars)\n",
    "status=True,False,1,0"
   ]
  },
  {
   "cell_type": "code",
   "execution_count": 9,
   "id": "1604d6eb",
   "metadata": {},
   "outputs": [
    {
     "name": "stdout",
     "output_type": "stream",
     "text": [
      "['toyota', 'volvo', 'lexus', 'benz']\n",
      "['volvo', 'toyota', 'lexus', 'benz']\n",
      "[1, 24, 20, 45]\n",
      "[1, 24, 20, 45]\n"
     ]
    }
   ],
   "source": [
    "# sort usage\n",
    "cars = ['toyota', 'volvo', 'lexus', 'benz']\n",
    "print(cars)\n",
    "cars.sort(reverse=True)\n",
    "print(cars)\n",
    "\n",
    "# extend\n",
    "\n",
    "age_boy =[1,24]\n",
    "age_of_girl =[20,45]\n",
    "all_ages = age_boy + age_of_girl\n",
    "print(all_ages)\n",
    "age_boy.extend(age_of_girl)\n",
    "print(age_boy)\n"
   ]
  },
  {
   "cell_type": "code",
   "execution_count": 14,
   "id": "9e0883f4",
   "metadata": {},
   "outputs": [
    {
     "name": "stdout",
     "output_type": "stream",
     "text": [
      "benz\n",
      "('volvo', 'benz', 'toyota', 'lexus')\n"
     ]
    }
   ],
   "source": [
    "#tuples 0 - len(my_tuples) - 1\n",
    "my_tuples = ('volvo','benz','toyota',)\n",
    "type(my_tuples)\n",
    "print(my_tuples[1])\n",
    "additional = ('lexus',) # to add new item to a tuple\n",
    "new_tuple = my_tuples + additional\n",
    "print(new_tuple)"
   ]
  },
  {
   "cell_type": "code",
   "execution_count": 23,
   "id": "f7ff708a",
   "metadata": {},
   "outputs": [
    {
     "name": "stdout",
     "output_type": "stream",
     "text": [
      "{'toyota', 'benz', 'volvo'}\n",
      "{'toyota', 'benz', 'volvo'}\n",
      "{'toyota', 'benz', 'volvo'}\n"
     ]
    }
   ],
   "source": [
    "# set\n",
    "my_set = {'volvo','benz'}\n",
    "type(my_set) \n",
    "my_set.add('toyota')\n",
    "print(my_set)\n",
    "my_set.add('benz')\n",
    "print(my_set)\n",
    "\n",
    "# remove , discard\n",
    "my_set.discard('lexus')\n",
    "print(my_set)"
   ]
  },
  {
   "cell_type": "code",
   "execution_count": 31,
   "id": "674f5858",
   "metadata": {},
   "outputs": [
    {
     "name": "stdout",
     "output_type": "stream",
     "text": [
      "Employee information {'name': 'Adenitire', 'position': 'Mid-Level', 'salary': 8900}\n",
      "Updated version Employee information {'name': 'Adenitire', 'position': 'Mid-Level', 'salary': 8900, 'address': 'No 10 Abule-Egba Lagos'}\n",
      "Employee changed name {'name': 'Mr Adenitire', 'position': 'Mid-Level', 'salary': 8900, 'address': 'No 10 Abule-Egba Lagos'}\n",
      "Updated version after remove address {'name': 'Mr Adenitire', 'position': 'Mid-Level', 'salary': 8900}\n",
      "dict_values(['Mr Adenitire', 'Mid-Level', 8900])\n",
      "Adenitire Ayomikun\n"
     ]
    }
   ],
   "source": [
    "#DICTIONARY {key: value}\n",
    "my_dictionary = {\"name\": \"Adenitire Ayomikun\"}\n",
    "type(my_dictionary)\n",
    "employee_A = {\"name\": \"Adenitire\",\"position\": \"Mid-Level\",\"salary\": 8900}\n",
    "print('Employee information',employee_A)\n",
    "# address\n",
    "employee_A.update({\"address\": \"No 10 Abule-Egba Lagos\"})\n",
    "print('Updated version Employee information',employee_A)\n",
    "employee_A.update({\"name\": \"Mr Adenitire\"})\n",
    "print('Employee changed name',employee_A)\n",
    "employee_A.pop('address')\n",
    "print('Updated version after remove address',employee_A)\n",
    "print(employee_A.values())\n",
    "print(my_dictionary.get('name'))"
   ]
  },
  {
   "cell_type": "code",
   "execution_count": 30,
   "id": "04d5f91d",
   "metadata": {},
   "outputs": [
    {
     "name": "stdout",
     "output_type": "stream",
     "text": [
      "[{'name': 'Adenitire'}, {'name': 'Tayo'}, {'name': 'Bimbo'}]\n"
     ]
    }
   ],
   "source": [
    "ccna_devnet_member = [{\"name\": \"Adenitire\"},{\"name\": \"Tayo\"},{\"name\":\"Bimbo\"}]\n",
    "print(ccna_devnet_member)"
   ]
  },
  {
   "cell_type": "code",
   "execution_count": 39,
   "id": "110ccaf4",
   "metadata": {},
   "outputs": [
    {
     "name": "stdout",
     "output_type": "stream",
     "text": [
      "50\n",
      "10\n",
      "2030\n",
      "0\n",
      "1\n"
     ]
    }
   ],
   "source": [
    "#ARIMETHICS\n",
    "#addition\n",
    "sum_of_two_numbers = 20 + 30\n",
    "print(sum_of_two_numbers)\n",
    "#substraction\n",
    "sub_of_two_numbers = 20 - 10\n",
    "print(sub_of_two_numbers)\n",
    "sum_of_two_string = \"20\" + \"30\"\n",
    "print(sum_of_two_string)\n",
    "# division / * \n",
    "modulo = 4 % 2\n",
    "print(modulo)\n",
    "floor_implementation = 4//3\n",
    "print(floor_implementation)"
   ]
  },
  {
   "cell_type": "code",
   "execution_count": 44,
   "id": "85d41a17",
   "metadata": {},
   "outputs": [
    {
     "name": "stdout",
     "output_type": "stream",
     "text": [
      "True\n"
     ]
    }
   ],
   "source": [
    "# CONDITIONAL STATEMENT\n",
    "#comparsion example: >,<,==,<=,>=\n",
    "first_num = 10\n",
    "second_num = 30\n",
    "is_first_num_g_second_num = second_num >= first_num\n",
    "print(is_first_num_g_second_num)"
   ]
  },
  {
   "cell_type": "code",
   "execution_count": 50,
   "id": "f5f2e49e",
   "metadata": {},
   "outputs": [
    {
     "name": "stdout",
     "output_type": "stream",
     "text": [
      "You are eligible to vote\n"
     ]
    }
   ],
   "source": [
    "# CONDITIONAL STATEMENT\n",
    "voter_age = 89\n",
    "if voter_age >= 18:\n",
    "    print(\"You are eligible to vote\")\n",
    "elif voter_age == 17.5:\n",
    "    print(\"You will be eligible to vote in next 5 month\")\n",
    "else:\n",
    "    print(\"You are not eligible to vote\")"
   ]
  },
  {
   "cell_type": "code",
   "execution_count": 69,
   "id": "c1a9011a",
   "metadata": {},
   "outputs": [
    {
     "name": "stdout",
     "output_type": "stream",
     "text": [
      "20\n",
      "30\n",
      "50\n",
      "60\n",
      "2\n",
      "4\n",
      "6\n",
      "name Ayo\n",
      "age 24\n",
      "20 index of 0\n",
      "30 index of 1\n",
      "50 index of 2\n",
      "60 index of 3\n"
     ]
    }
   ],
   "source": [
    "# LOOPING STATEMENT\n",
    "list_of_ages = [20,30,50,60] \n",
    "my__tuple =(2,4,6,)\n",
    "# FOR LOOP and WHILE\n",
    "for age in list_of_ages:\n",
    "    print(age)\n",
    "\n",
    "#tuple\n",
    "for ty in my__tuple:\n",
    "    print(ty)\n",
    "\n",
    "# dictionary\n",
    "my_dictionary = {\"name\":\"Ayo\", \"age\":24}\n",
    "for key,value in my_dictionary.items():\n",
    "    print(key,value)\n",
    "\n",
    "count = 0\n",
    "while count < len(list_of_ages):\n",
    "    print(list_of_ages[count],'index of', count)\n",
    "    count= count + 1"
   ]
  },
  {
   "cell_type": "code",
   "execution_count": 80,
   "id": "87ee5079",
   "metadata": {},
   "outputs": [
    {
     "name": "stdout",
     "output_type": "stream",
     "text": [
      "30\n",
      "20\n"
     ]
    }
   ],
   "source": [
    "# IMPLEMENT OF METHODS AND CLASS IN PYTHON\n",
    "\n",
    "def add():\n",
    "    a = 10\n",
    "    b = 20\n",
    "    c = a + b\n",
    "    print(c)\n",
    "add() # call a function without an argment\n",
    "\n",
    "def add_with_args(a,b):\n",
    "    c = a + b\n",
    "    print(c)\n",
    "add_with_argment(10,10)"
   ]
  },
  {
   "cell_type": "code",
   "execution_count": 85,
   "id": "b69fd3a5",
   "metadata": {},
   "outputs": [
    {
     "name": "stdout",
     "output_type": "stream",
     "text": [
      "127.0.0.1\n",
      "192.168.0.1\n",
      "192.168.9.0\n",
      "=========================\n",
      "190.9.0.\n",
      "178.0.0.1\n"
     ]
    }
   ],
   "source": [
    "#SCENARIO 1\n",
    "def detect_ip_adrress():\n",
    "    ip_address = [\"127.0.0.1\",\"192.168.0.1\",\"192.168.9.0\"]\n",
    "    for ip in ip_address:\n",
    "        print(ip)\n",
    "detect_ip_adrress()\n",
    "print(\"=========================\")\n",
    "#SCENARIO 2\n",
    "def detect_ip_address_with_args(ip_addresses):\n",
    "        for ip in ip_addresses:\n",
    "            print(ip)\n",
    "ip_addresses = ['190.9.0.','178.0.0.1']\n",
    "detect_ip_address_with_args(ip_addresses)"
   ]
  },
  {
   "cell_type": "code",
   "execution_count": 87,
   "id": "e463e788",
   "metadata": {},
   "outputs": [
    {
     "name": "stdout",
     "output_type": "stream",
     "text": [
      "Adenitie\n"
     ]
    }
   ],
   "source": [
    "# PYTHON CLASS\n",
    "class Employee:\n",
    "    pass\n",
    "employee = Employee()\n",
    "employee.first_name = \"Adenitie\"\n",
    "employee.second_name= \"Ayo\"\n",
    "print(employee.first_name)"
   ]
  },
  {
   "cell_type": "code",
   "execution_count": null,
   "id": "9cfdfff9",
   "metadata": {},
   "outputs": [],
   "source": [
    "list_of_student_results =  [89,10,57,70,40,38]\n",
    "# Hint: Combination of for loop and conditional statement with comparison"
   ]
  }
 ],
 "metadata": {
  "kernelspec": {
   "display_name": "Python 3",
   "language": "python",
   "name": "python3"
  },
  "language_info": {
   "codemirror_mode": {
    "name": "ipython",
    "version": 3
   },
   "file_extension": ".py",
   "mimetype": "text/x-python",
   "name": "python",
   "nbconvert_exporter": "python",
   "pygments_lexer": "ipython3",
   "version": "3.8.10"
  }
 },
 "nbformat": 4,
 "nbformat_minor": 5
}
