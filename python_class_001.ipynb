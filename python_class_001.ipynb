{
 "cells": [
  {
   "cell_type": "code",
   "execution_count": 1,
   "id": "c451af1d",
   "metadata": {},
   "outputs": [
    {
     "name": "stdout",
     "output_type": "stream",
     "text": [
      "My age is = 23\n",
      "My system ip addresss is : 127.0.0.1\n"
     ]
    },
    {
     "data": {
      "text/plain": [
       "list"
      ]
     },
     "execution_count": 1,
     "metadata": {},
     "output_type": "execute_result"
    }
   ],
   "source": [
    "#VARIABLE variable_name = value\n",
    "age = '23'\n",
    "girl_age = 10\n",
    "\n",
    "ip_address = \"127.0.0.1\" #\n",
    "fruits = ['orange','banana']\n",
    "ages = [30,40,10]\n",
    "collections = ['toyota','volvo','lexus']\n",
    "print('My age is =',age)\n",
    "print('My system ip addresss is :',ip_address)\n",
    "\n",
    "# DATETYPES\n",
    "\n",
    "#INTEGERS\n",
    "#STRING\n",
    "#LIST\n",
    "#DICTIONARY\n",
    "#TUPLES\n",
    "#SET\n",
    "\n",
    "# isinstance(variable_name, int)\n",
    "\n",
    "type(fruits)"
   ]
  },
  {
   "cell_type": "code",
   "execution_count": 3,
   "id": "73531d20",
   "metadata": {
    "scrolled": true
   },
   "outputs": [
    {
     "name": "stdout",
     "output_type": "stream",
     "text": [
      "Have gotten new car name benz ['toyota', 'volvo', 'lexus', 'benz']\n",
      "3\n",
      "toyota\n",
      "new car collections ['toyota', 'volvo']\n"
     ]
    }
   ],
   "source": [
    "# OPERATIONS ON A LIST\n",
    "# append, pop, index, sort\n",
    "##print('original collection',collections)\n",
    "collections.append('benz')\n",
    "print(\"Have gotten new car name benz\",collections)\n",
    "\n",
    "#how to use pop\n",
    "collections.pop()\n",
    "#print(\"I sold my car randomly\",collections) 0 - len(list)-1\n",
    "cars = ['toyota', 'volvo', 'lexus']\n",
    "print(len(cars))\n",
    "#3 => 0,1,2\n",
    "print(cars[0])\n",
    "cars.pop(2)\n",
    "print(\"new car collections\", cars)\n",
    "status=True,False,1,0"
   ]
  },
  {
   "cell_type": "code",
   "execution_count": 9,
   "id": "1604d6eb",
   "metadata": {},
   "outputs": [
    {
     "name": "stdout",
     "output_type": "stream",
     "text": [
      "['toyota', 'volvo', 'lexus', 'benz']\n",
      "['volvo', 'toyota', 'lexus', 'benz']\n",
      "[1, 24, 20, 45]\n",
      "[1, 24, 20, 45]\n"
     ]
    }
   ],
   "source": [
    "# sort usage\n",
    "cars = ['toyota', 'volvo', 'lexus', 'benz']\n",
    "print(cars)\n",
    "cars.sort(reverse=True)\n",
    "print(cars)\n",
    "\n",
    "# extend\n",
    "\n",
    "age_boy =[1,24]\n",
    "age_of_girl =[20,45]\n",
    "all_ages = age_boy + age_of_girl\n",
    "print(all_ages)\n",
    "age_boy.extend(age_of_girl)\n",
    "print(age_boy)\n"
   ]
  },
  {
   "cell_type": "code",
   "execution_count": 14,
   "id": "9e0883f4",
   "metadata": {},
   "outputs": [
    {
     "name": "stdout",
     "output_type": "stream",
     "text": [
      "benz\n",
      "('volvo', 'benz', 'toyota', 'lexus')\n"
     ]
    }
   ],
   "source": [
    "#tuples 0 - len(my_tuples) - 1\n",
    "my_tuples = ('volvo','benz','toyota',)\n",
    "type(my_tuples)\n",
    "print(my_tuples[1])\n",
    "additional = ('lexus',) # to add new item to a tuple\n",
    "new_tuple = my_tuples + additional\n",
    "print(new_tuple)"
   ]
  },
  {
   "cell_type": "code",
   "execution_count": 23,
   "id": "f7ff708a",
   "metadata": {},
   "outputs": [
    {
     "name": "stdout",
     "output_type": "stream",
     "text": [
      "{'toyota', 'benz', 'volvo'}\n",
      "{'toyota', 'benz', 'volvo'}\n",
      "{'toyota', 'benz', 'volvo'}\n"
     ]
    }
   ],
   "source": [
    "# set\n",
    "my_set = {'volvo','benz'}\n",
    "type(my_set) \n",
    "my_set.add('toyota')\n",
    "print(my_set)\n",
    "my_set.add('benz')\n",
    "print(my_set)\n",
    "\n",
    "# remove , discard\n",
    "my_set.discard('lexus')\n",
    "print(my_set)"
   ]
  },
  {
   "cell_type": "code",
   "execution_count": 31,
   "id": "674f5858",
   "metadata": {},
   "outputs": [
    {
     "name": "stdout",
     "output_type": "stream",
     "text": [
      "Employee information {'name': 'Adenitire', 'position': 'Mid-Level', 'salary': 8900}\n",
      "Updated version Employee information {'name': 'Adenitire', 'position': 'Mid-Level', 'salary': 8900, 'address': 'No 10 Abule-Egba Lagos'}\n",
      "Employee changed name {'name': 'Mr Adenitire', 'position': 'Mid-Level', 'salary': 8900, 'address': 'No 10 Abule-Egba Lagos'}\n",
      "Updated version after remove address {'name': 'Mr Adenitire', 'position': 'Mid-Level', 'salary': 8900}\n",
      "dict_values(['Mr Adenitire', 'Mid-Level', 8900])\n",
      "Adenitire Ayomikun\n"
     ]
    }
   ],
   "source": [
    "#DICTIONARY {key: value}\n",
    "my_dictionary = {\"name\": \"Adenitire Ayomikun\"}\n",
    "type(my_dictionary)\n",
    "employee_A = {\"name\": \"Adenitire\",\"position\": \"Mid-Level\",\"salary\": 8900}\n",
    "print('Employee information',employee_A)\n",
    "# address\n",
    "employee_A.update({\"address\": \"No 10 Abule-Egba Lagos\"})\n",
    "print('Updated version Employee information',employee_A)\n",
    "employee_A.update({\"name\": \"Mr Adenitire\"})\n",
    "print('Employee changed name',employee_A)\n",
    "employee_A.pop('address')\n",
    "print('Updated version after remove address',employee_A)\n",
    "print(employee_A.values())\n",
    "print(my_dictionary.get('name'))"
   ]
  },
  {
   "cell_type": "code",
   "execution_count": 30,
   "id": "04d5f91d",
   "metadata": {},
   "outputs": [
    {
     "name": "stdout",
     "output_type": "stream",
     "text": [
      "[{'name': 'Adenitire'}, {'name': 'Tayo'}, {'name': 'Bimbo'}]\n"
     ]
    }
   ],
   "source": [
    "ccna_devnet_member = [{\"name\": \"Adenitire\"},{\"name\": \"Tayo\"},{\"name\":\"Bimbo\"}]\n",
    "print(ccna_devnet_member)"
   ]
  },
  {
   "cell_type": "code",
   "execution_count": 39,
   "id": "110ccaf4",
   "metadata": {},
   "outputs": [
    {
     "name": "stdout",
     "output_type": "stream",
     "text": [
      "50\n",
      "10\n",
      "2030\n",
      "0\n",
      "1\n"
     ]
    }
   ],
   "source": [
    "#ARIMETHICS\n",
    "#addition\n",
    "sum_of_two_numbers = 20 + 30\n",
    "print(sum_of_two_numbers)\n",
    "#substraction\n",
    "sub_of_two_numbers = 20 - 10\n",
    "print(sub_of_two_numbers)\n",
    "sum_of_two_string = \"20\" + \"30\"\n",
    "print(sum_of_two_string)\n",
    "# division / * \n",
    "modulo = 4 % 2\n",
    "print(modulo)\n",
    "floor_implementation = 4//3\n",
    "print(floor_implementation)"
   ]
  },
  {
   "cell_type": "code",
   "execution_count": 44,
   "id": "85d41a17",
   "metadata": {},
   "outputs": [
    {
     "name": "stdout",
     "output_type": "stream",
     "text": [
      "True\n"
     ]
    }
   ],
   "source": [
    "# CONDITIONAL STATEMENT\n",
    "#comparsion example: >,<,==,<=,>=\n",
    "first_num = 10\n",
    "second_num = 30\n",
    "is_first_num_g_second_num = second_num >= first_num\n",
    "print(is_first_num_g_second_num)"
   ]
  },
  {
   "cell_type": "code",
   "execution_count": 50,
   "id": "f5f2e49e",
   "metadata": {},
   "outputs": [
    {
     "name": "stdout",
     "output_type": "stream",
     "text": [
      "You are eligible to vote\n"
     ]
    }
   ],
   "source": [
    "# CONDITIONAL STATEMENT\n",
    "voter_age = 89\n",
    "if voter_age >= 18:\n",
    "    print(\"You are eligible to vote\")\n",
    "elif voter_age == 17.5:\n",
    "    print(\"You will be eligible to vote in next 5 month\")\n",
    "else:\n",
    "    print(\"You are not eligible to vote\")"
   ]
  },
  {
   "cell_type": "code",
   "execution_count": 69,
   "id": "c1a9011a",
   "metadata": {},
   "outputs": [
    {
     "name": "stdout",
     "output_type": "stream",
     "text": [
      "20\n",
      "30\n",
      "50\n",
      "60\n",
      "2\n",
      "4\n",
      "6\n",
      "name Ayo\n",
      "age 24\n",
      "20 index of 0\n",
      "30 index of 1\n",
      "50 index of 2\n",
      "60 index of 3\n"
     ]
    }
   ],
   "source": [
    "# LOOPING STATEMENT\n",
    "list_of_ages = [20,30,50,60] \n",
    "my__tuple =(2,4,6,)\n",
    "# FOR LOOP and WHILE\n",
    "for age in list_of_ages:\n",
    "    print(age)\n",
    "\n",
    "#tuple\n",
    "for ty in my__tuple:\n",
    "    print(ty)\n",
    "\n",
    "# dictionary\n",
    "my_dictionary = {\"name\":\"Ayo\", \"age\":24}\n",
    "for key,value in my_dictionary.items():\n",
    "    print(key,value)\n",
    "\n",
    "count = 0\n",
    "while count < len(list_of_ages):\n",
    "    print(list_of_ages[count],'index of', count)\n",
    "    count= count + 1"
   ]
  },
  {
   "cell_type": "code",
   "execution_count": 19,
   "id": "87ee5079",
   "metadata": {},
   "outputs": [
    {
     "name": "stdout",
     "output_type": "stream",
     "text": [
      "30\n"
     ]
    },
    {
     "ename": "TypeError",
     "evalue": "login() missing 2 required positional arguments: 'username' and 'password'",
     "output_type": "error",
     "traceback": [
      "\u001b[1;31m---------------------------------------------------------------------------\u001b[0m",
      "\u001b[1;31mTypeError\u001b[0m                                 Traceback (most recent call last)",
      "\u001b[1;32m<ipython-input-19-38183b8d94b3>\u001b[0m in \u001b[0;36m<module>\u001b[1;34m\u001b[0m\n\u001b[0;32m     16\u001b[0m     \u001b[1;32mreturn\u001b[0m \u001b[1;34mf\"{username} {password}\"\u001b[0m\u001b[1;33m\u001b[0m\u001b[1;33m\u001b[0m\u001b[0m\n\u001b[0;32m     17\u001b[0m \u001b[1;33m\u001b[0m\u001b[0m\n\u001b[1;32m---> 18\u001b[1;33m \u001b[0mlogin_credentials\u001b[0m \u001b[1;33m=\u001b[0m \u001b[0mlogin\u001b[0m\u001b[1;33m(\u001b[0m\u001b[1;33m)\u001b[0m\u001b[1;33m\u001b[0m\u001b[1;33m\u001b[0m\u001b[0m\n\u001b[0m\u001b[0;32m     19\u001b[0m \u001b[0mprint\u001b[0m\u001b[1;33m(\u001b[0m\u001b[0mlogin_credentials\u001b[0m\u001b[1;33m)\u001b[0m\u001b[1;33m\u001b[0m\u001b[1;33m\u001b[0m\u001b[0m\n\u001b[0;32m     20\u001b[0m \u001b[0madd_with_args\u001b[0m\u001b[1;33m(\u001b[0m\u001b[1;36m10\u001b[0m\u001b[1;33m,\u001b[0m\u001b[1;36m10\u001b[0m\u001b[1;33m)\u001b[0m\u001b[1;33m\u001b[0m\u001b[1;33m\u001b[0m\u001b[0m\n",
      "\u001b[1;31mTypeError\u001b[0m: login() missing 2 required positional arguments: 'username' and 'password'"
     ]
    }
   ],
   "source": [
    "# IMPLEMENT OF METHODS AND CLASS IN PYTHON\n",
    "\n",
    "def add():\n",
    "    a = 10\n",
    "    b = 20\n",
    "    c = a + b\n",
    "    print(c)\n",
    "add() # call a function without an argment\n",
    "\n",
    "def add_with_args(a,b):\n",
    "    c = a + b\n",
    "    print(c)\n",
    "\n",
    "\n",
    "def login(username,password):\n",
    "    return f\"{username} {password}\"\n",
    "\n",
    "login_credentials = login(\"ayomikun\",'123456')\n",
    "print(login_credentials)\n",
    "add_with_args(10,10)"
   ]
  },
  {
   "cell_type": "code",
   "execution_count": 85,
   "id": "b69fd3a5",
   "metadata": {},
   "outputs": [
    {
     "name": "stdout",
     "output_type": "stream",
     "text": [
      "127.0.0.1\n",
      "192.168.0.1\n",
      "192.168.9.0\n",
      "=========================\n",
      "190.9.0.\n",
      "178.0.0.1\n"
     ]
    }
   ],
   "source": [
    "#SCENARIO 1\n",
    "def detect_ip_adrress():\n",
    "    ip_address = [\"127.0.0.1\",\"192.168.0.1\",\"192.168.9.0\"]\n",
    "    for ip in ip_address:\n",
    "        print(ip)\n",
    "detect_ip_adrress()\n",
    "print(\"=========================\")\n",
    "#SCENARIO 2\n",
    "def detect_ip_address_with_args(ip_addresses):\n",
    "        for ip in ip_addresses:\n",
    "            print(ip)\n",
    "ip_addresses = ['190.9.0.','178.0.0.1']\n",
    "detect_ip_address_with_args(ip_addresses)"
   ]
  },
  {
   "cell_type": "code",
   "execution_count": 9,
   "id": "e463e788",
   "metadata": {},
   "outputs": [
    {
     "name": "stdout",
     "output_type": "stream",
     "text": [
      "Adenitire\n",
      "Male\n",
      "David\n",
      "Male\n"
     ]
    }
   ],
   "source": [
    "# PYTHON CLASS \n",
    "\n",
    "#DYNAMIC ASSIGNING OF A CLASS ATTRIBUTE\n",
    "class Employee:\n",
    "    pass\n",
    "employee1 = Employee()\n",
    "# inside a class we have what we called an attribute of a class\n",
    "employee1.first_name = \"Adenitire\"\n",
    "employee1.last_name = \"Ayo\"\n",
    "employee1.gender = \"Male\"\n",
    "employee1.salary = \"$10000\"\n",
    "print(employee1.first_name)\n",
    "print(employee1.gender)\n",
    "\n",
    "employee2 = Employee()\n",
    "employee2.first_name = \"David\"\n",
    "employee2.last_name = \"Oba\"\n",
    "employee2.gender = \"Male\"\n",
    "employee2.salary = \"$20000\"\n",
    "print(employee2.first_name)\n",
    "print(employee2.gender)"
   ]
  },
  {
   "cell_type": "code",
   "execution_count": 50,
   "id": "e80f48f0",
   "metadata": {},
   "outputs": [
    {
     "name": "stdout",
     "output_type": "stream",
     "text": [
      "Michael Oliver\n",
      "Jennifer Turner\n",
      "Nicole Cooper\n",
      "Steven Powell\n",
      "Michael Chang\n",
      "<__main__.Member object at 0x000001AB0214CF10>\n",
      "Google Assistant Oliver\n"
     ]
    }
   ],
   "source": [
    "from faker import Faker\n",
    "fake = Faker()\n",
    "\n",
    "class Member:\n",
    "    def __init__(self,first_name,last_name,gender,salary):\n",
    "        self.first_name = first_name\n",
    "        self.last_name = last_name\n",
    "        self.gender= gender\n",
    "        self.salary = salary\n",
    "    \n",
    "    def profile(self):\n",
    "        data = {\n",
    "            \"first_name\": self.first_name,\n",
    "            \"last_name\": self.last_name,\n",
    "            'gender':self.gender,\n",
    "            \"salary\":self.salary\n",
    "        }\n",
    "        return data\n",
    "    def update_first_name(self,value):\n",
    "        self.first_name = value\n",
    "        return True\n",
    "    \n",
    "    def update_salary(self,value):\n",
    "        self.salary = value\n",
    "        return True\n",
    "    \n",
    "    def get_full_name(self):\n",
    "        return f\"{self.first_name} {self.last_name}\"\n",
    "    \n",
    "    @staticmethod\n",
    "    def get_full(a,b):\n",
    "        return \"am a static method\"\n",
    "    \n",
    "    \n",
    "member = Member(first_name=\"Adenitire\",last_name=\"Ayo\",gender=\"Male\",salary=900000)\n",
    "profile = member.profile()\n",
    "members = []\n",
    "for i in range(5):\n",
    "    member = Member(first_name = fake.first_name(),last_name=fake.last_name(),gender=fake.city(),salary=fake.random_int())\n",
    "    print(member.get_full_name())\n",
    "    members.append(member)\n",
    "\n",
    "first_member = members[0]\n",
    "print(first_member)\n",
    "first_member.update_first_name('Google Assistant')\n",
    "print(first_member.get_full_name())"
   ]
  },
  {
   "cell_type": "code",
   "execution_count": 59,
   "id": "56df0896",
   "metadata": {},
   "outputs": [
    {
     "name": "stdout",
     "output_type": "stream",
     "text": [
      "Jacob\n"
     ]
    }
   ],
   "source": [
    "class Human:\n",
    "    def __init__(self,first_name,last_name,age,sex,color):\n",
    "        self.first_name = first_name\n",
    "        self.last_name=last_name\n",
    "        self.age = age\n",
    "        self.sex = sex\n",
    "        self.color = color\n",
    "    \n",
    "    def profile(self):\n",
    "        data = {\n",
    "            \"first_name\": self.first_name,\n",
    "            \"last_name\": self.last_name,\n",
    "            'sex':self.sex,\n",
    "            \"age\":self.age,\n",
    "            \"color\": self.color\n",
    "        }\n",
    "        return data\n",
    "\n",
    "class Person(Human):\n",
    "    \n",
    "    def __init__(self,first_name,last_name,age,sex,color):\n",
    "        super().__init__(first_name,last_name,age,sex,color)\n",
    "        self.organization = \"\"\n",
    "        self.location = \"\"\n",
    "person = Person(first_name=fake.first_name(),last_name=fake.last_name(),age=fake.city(),sex=fake.random_int(),color=\"white\")\n",
    "\n",
    "human = Human(first_name=fake.first_name(),last_name=fake.last_name(),age=fake.city(),sex=fake.random_int(),color=\"white\")\n",
    "\n",
    "print(person.first_name)"
   ]
  },
  {
   "cell_type": "code",
   "execution_count": null,
   "id": "9cfdfff9",
   "metadata": {},
   "outputs": [],
   "source": [
    "list_of_student_results =  [89,10,57,70,40,38]\n",
    "# Hint: Combination of for loop and conditional statement with comparison"
   ]
  },
  {
   "cell_type": "code",
   "execution_count": 63,
   "id": "84de070b",
   "metadata": {},
   "outputs": [
    {
     "name": "stdout",
     "output_type": "stream",
     "text": [
      "Circumference of a circle with a radius of 2 is 12.56\n"
     ]
    }
   ],
   "source": [
    "class Circle:\n",
    "    def __init__(self, radius):\n",
    "        self.radius = radius\n",
    "\n",
    "    def circumference(self):\n",
    "      pi = 3.14\n",
    "      circumferenceValue = pi * self.radius * 2\n",
    "      return circumferenceValue\n",
    "\n",
    "    def printCircumference(self):\n",
    "      myCircumference = self.circumference()\n",
    "      print (\"Circumference of a circle with a radius of \" + str(self.radius) + \" is \" + str(myCircumference))\n",
    "circle = Circle(2)\n",
    "circle.circumference()\n",
    "circle.printCircumference()"
   ]
  },
  {
   "cell_type": "code",
   "execution_count": null,
   "id": "0779ad6f",
   "metadata": {},
   "outputs": [],
   "source": []
  }
 ],
 "metadata": {
  "kernelspec": {
   "display_name": "Python 3",
   "language": "python",
   "name": "python3"
  },
  "language_info": {
   "codemirror_mode": {
    "name": "ipython",
    "version": 3
   },
   "file_extension": ".py",
   "mimetype": "text/x-python",
   "name": "python",
   "nbconvert_exporter": "python",
   "pygments_lexer": "ipython3",
   "version": "3.8.10"
  }
 },
 "nbformat": 4,
 "nbformat_minor": 5
}
